{
  "nbformat": 4,
  "nbformat_minor": 0,
  "metadata": {
    "accelerator": "GPU",
    "colab": {
      "provenance": []
    },
    "kernelspec": {
      "display_name": "Python 3",
      "language": "python",
      "name": "python3"
    },
    "language_info": {
      "codemirror_mode": {
        "name": "ipython",
        "version": 3
      },
      "file_extension": ".py",
      "mimetype": "text/x-python",
      "name": "python",
      "nbconvert_exporter": "python",
      "pygments_lexer": "ipython3",
      "version": "3.7.3"
    }
  },
  "cells": [
    {
      "cell_type": "markdown",
      "metadata": {
        "id": "sp7D0ktn5eiG"
      },
      "source": [
        "## **Emotion Recognition and Emoji Recommendation**\n",
        "\n",
        "---\n",
        "\n",
        "[Tweet Emotion Dataset](https://github.com/dair-ai/emotion_dataset)\n"
      ]
    },
    {
      "cell_type": "markdown",
      "metadata": {
        "id": "dLnDPdYJiJHv"
      },
      "source": [
        "## 1. Installing Hugging Face's nlp package"
      ]
    },
    {
      "cell_type": "code",
      "metadata": {
        "colab": {
          "base_uri": "https://localhost:8080/"
        },
        "id": "5agZRy-45i0g",
        "outputId": "c99c1744-90d4-4933-d569-5fb7bca499c4"
      },
      "source": [
        "!pip install nlp"
      ],
      "execution_count": 2,
      "outputs": [
        {
          "output_type": "stream",
          "name": "stdout",
          "text": [
            "Looking in indexes: https://pypi.org/simple, https://us-python.pkg.dev/colab-wheels/public/simple/\n",
            "Requirement already satisfied: nlp in /usr/local/lib/python3.10/dist-packages (0.4.0)\n",
            "Requirement already satisfied: numpy in /usr/local/lib/python3.10/dist-packages (from nlp) (1.22.4)\n",
            "Requirement already satisfied: pyarrow>=0.16.0 in /usr/local/lib/python3.10/dist-packages (from nlp) (9.0.0)\n",
            "Requirement already satisfied: dill in /usr/local/lib/python3.10/dist-packages (from nlp) (0.3.6)\n",
            "Requirement already satisfied: pandas in /usr/local/lib/python3.10/dist-packages (from nlp) (1.5.3)\n",
            "Requirement already satisfied: requests>=2.19.0 in /usr/local/lib/python3.10/dist-packages (from nlp) (2.27.1)\n",
            "Requirement already satisfied: tqdm>=4.27 in /usr/local/lib/python3.10/dist-packages (from nlp) (4.65.0)\n",
            "Requirement already satisfied: filelock in /usr/local/lib/python3.10/dist-packages (from nlp) (3.12.0)\n",
            "Requirement already satisfied: xxhash in /usr/local/lib/python3.10/dist-packages (from nlp) (3.2.0)\n",
            "Requirement already satisfied: urllib3<1.27,>=1.21.1 in /usr/local/lib/python3.10/dist-packages (from requests>=2.19.0->nlp) (1.26.15)\n",
            "Requirement already satisfied: certifi>=2017.4.17 in /usr/local/lib/python3.10/dist-packages (from requests>=2.19.0->nlp) (2022.12.7)\n",
            "Requirement already satisfied: charset-normalizer~=2.0.0 in /usr/local/lib/python3.10/dist-packages (from requests>=2.19.0->nlp) (2.0.12)\n",
            "Requirement already satisfied: idna<4,>=2.5 in /usr/local/lib/python3.10/dist-packages (from requests>=2.19.0->nlp) (3.4)\n",
            "Requirement already satisfied: python-dateutil>=2.8.1 in /usr/local/lib/python3.10/dist-packages (from pandas->nlp) (2.8.2)\n",
            "Requirement already satisfied: pytz>=2020.1 in /usr/local/lib/python3.10/dist-packages (from pandas->nlp) (2022.7.1)\n",
            "Requirement already satisfied: six>=1.5 in /usr/local/lib/python3.10/dist-packages (from python-dateutil>=2.8.1->pandas->nlp) (1.16.0)\n"
          ]
        }
      ]
    },
    {
      "cell_type": "markdown",
      "metadata": {
        "id": "Ecz7shv-ClA1"
      },
      "source": [
        "## 2. Importing the libraries"
      ]
    },
    {
      "cell_type": "code",
      "metadata": {
        "id": "yKFjWz6e5eiH"
      },
      "source": [
        "%matplotlib inline\n",
        "\n",
        "import tensorflow as tf\n",
        "import numpy as np\n",
        "import matplotlib.pyplot as plt\n",
        "import nlp\n",
        "import random"
      ],
      "execution_count": 3,
      "outputs": []
    },
    {
      "cell_type": "code",
      "metadata": {
        "id": "826tQBp5zlb1"
      },
      "source": [
        "import warnings\n",
        "warnings.filterwarnings('ignore')"
      ],
      "execution_count": 4,
      "outputs": []
    },
    {
      "cell_type": "markdown",
      "metadata": {
        "id": "nvfVk2GNiJH5"
      },
      "source": [
        "## 3. Importing the Dataset"
      ]
    },
    {
      "cell_type": "code",
      "source": [
        "from google.colab import drive\n",
        "drive.mount('/content/drive')"
      ],
      "metadata": {
        "colab": {
          "base_uri": "https://localhost:8080/"
        },
        "id": "qJBlB-XrYjtW",
        "outputId": "eb69c259-bbe1-404a-a272-d1cf149bcae6"
      },
      "execution_count": 5,
      "outputs": [
        {
          "output_type": "stream",
          "name": "stdout",
          "text": [
            "Drive already mounted at /content/drive; to attempt to forcibly remount, call drive.mount(\"/content/drive\", force_remount=True).\n"
          ]
        }
      ]
    },
    {
      "cell_type": "code",
      "source": [
        "import pickle\n",
        "\n",
        "with open('/content/drive/MyDrive/merged_training.pkl', 'rb') as f:\n",
        "    data = pickle.load(f)"
      ],
      "metadata": {
        "id": "EkbCvymkFru6"
      },
      "execution_count": 6,
      "outputs": []
    },
    {
      "cell_type": "code",
      "source": [
        "type(data)"
      ],
      "metadata": {
        "colab": {
          "base_uri": "https://localhost:8080/"
        },
        "id": "UBME4vDPIC0c",
        "outputId": "6f69d44d-cd15-4ead-8ef8-d0117c6454cf"
      },
      "execution_count": 7,
      "outputs": [
        {
          "output_type": "execute_result",
          "data": {
            "text/plain": [
              "pandas.core.frame.DataFrame"
            ]
          },
          "metadata": {},
          "execution_count": 7
        }
      ]
    },
    {
      "cell_type": "code",
      "source": [
        "data.text.head()"
      ],
      "metadata": {
        "colab": {
          "base_uri": "https://localhost:8080/"
        },
        "id": "6bUOjz-5JDG1",
        "outputId": "a28319e1-e0c9-4711-8ea7-53395ca5558f"
      },
      "execution_count": 8,
      "outputs": [
        {
          "output_type": "execute_result",
          "data": {
            "text/plain": [
              "27383     i feel awful about it too because it s my job ...\n",
              "110083                                im alone i feel awful\n",
              "140764    ive probably mentioned this before but i reall...\n",
              "100071             i was feeling a little low few days back\n",
              "2837      i beleive that i am much more sensitive to oth...\n",
              "Name: text, dtype: object"
            ]
          },
          "metadata": {},
          "execution_count": 8
        }
      ]
    },
    {
      "cell_type": "code",
      "source": [
        "from sklearn.model_selection import train_test_split\n",
        "\n",
        "train, test = train_test_split(data, test_size=0.2)\n",
        "\n",
        "train.shape, test.shape"
      ],
      "metadata": {
        "colab": {
          "base_uri": "https://localhost:8080/"
        },
        "id": "EDlo6-SdMUKj",
        "outputId": "a6e0cdc5-f3eb-4406-cb8b-2c7cf3a38caa"
      },
      "execution_count": 13,
      "outputs": [
        {
          "output_type": "execute_result",
          "data": {
            "text/plain": [
              "((333447, 2), (83362, 2))"
            ]
          },
          "metadata": {},
          "execution_count": 13
        }
      ]
    },
    {
      "cell_type": "code",
      "source": [
        "train['text']"
      ],
      "metadata": {
        "colab": {
          "base_uri": "https://localhost:8080/"
        },
        "id": "ef-1oG2FNgKR",
        "outputId": "d5a59aa9-2991-49ee-85e5-2b3ce2e53191"
      },
      "execution_count": 27,
      "outputs": [
        {
          "output_type": "execute_result",
          "data": {
            "text/plain": [
              "13704                                   i feel nostalgic an\n",
              "4526      i am before the blessed sacra ment i feel such...\n",
              "133325      im feeling so excited for you card side by side\n",
              "97515     i visit the school i feel a little heartbroken...\n",
              "33703     i feel content with myself and the people arou...\n",
              "                                ...                        \n",
              "97113     i love the feeling that im not adding any more...\n",
              "19783                                  i do not feel woeful\n",
              "42853     i feel its for you to learn from and grow and ...\n",
              "37834     i feel kinda regretful that i spent less time ...\n",
              "1751      when i was put into a tennis team below my sta...\n",
              "Name: text, Length: 333447, dtype: object"
            ]
          },
          "metadata": {},
          "execution_count": 27
        }
      ]
    },
    {
      "cell_type": "code",
      "metadata": {
        "id": "oDYXMfZy5eiP"
      },
      "source": [
        "def get_tweets(data):\n",
        "    tweets = [x for x in data['text']]\n",
        "    labels = [x for x in data['emotions']]\n",
        "    return tweets, labels"
      ],
      "execution_count": 28,
      "outputs": []
    },
    {
      "cell_type": "code",
      "metadata": {
        "id": "jeq3-vSB5eiR"
      },
      "source": [
        "tweets, labels = get_tweets(train)"
      ],
      "execution_count": 29,
      "outputs": []
    },
    {
      "cell_type": "code",
      "metadata": {
        "id": "bHD3Tk0J5eiU",
        "colab": {
          "base_uri": "https://localhost:8080/"
        },
        "outputId": "80b85f97-0f8d-4d95-c456-616eb6aa46c2"
      },
      "source": [
        "tweets[10], labels[10]"
      ],
      "execution_count": 30,
      "outputs": [
        {
          "output_type": "execute_result",
          "data": {
            "text/plain": [
              "('i read in the newspaper about a yr old woman who was found naked and dead along a roadside it turned out she had had two relatives and who were kidnapped',\n",
              " 'anger')"
            ]
          },
          "metadata": {},
          "execution_count": 30
        }
      ]
    },
    {
      "cell_type": "markdown",
      "metadata": {
        "id": "9guH0-5qiJII"
      },
      "source": [
        "## 4. Tokenizing the Tweets"
      ]
    },
    {
      "cell_type": "code",
      "metadata": {
        "id": "IYN8LWDmiJII"
      },
      "source": [
        "from tensorflow.keras.preprocessing.text import Tokenizer"
      ],
      "execution_count": 31,
      "outputs": []
    },
    {
      "cell_type": "code",
      "metadata": {
        "id": "cckUvwBo5eif",
        "colab": {
          "base_uri": "https://localhost:8080/"
        },
        "outputId": "1cebdc41-5083-4e7a-80e5-f73733aa1980"
      },
      "source": [
        "tokenizer = Tokenizer(num_words=10000, oov_token='<UNK>')\n",
        "\n",
        "tokenizer.fit_on_texts(tweets)\n",
        "\n",
        "print(tokenizer.texts_to_sequences([tweets[10]]))"
      ],
      "execution_count": 32,
      "outputs": [
        {
          "output_type": "stream",
          "name": "stdout",
          "text": [
            "[[2, 233, 12, 6, 4495, 28, 7, 7979, 317, 518, 75, 21, 291, 2162, 4, 1351, 613, 7, 1, 13, 988, 49, 98, 58, 58, 222, 4298, 4, 75, 133, 1]]\n"
          ]
        }
      ]
    },
    {
      "cell_type": "markdown",
      "metadata": {
        "id": "5AwQt4AgiJIJ"
      },
      "source": [
        "## 5. Padding and Truncating Sequences"
      ]
    },
    {
      "cell_type": "code",
      "metadata": {
        "id": "bbDdupDkiJIJ",
        "colab": {
          "base_uri": "https://localhost:8080/",
          "height": 430
        },
        "outputId": "22a5f58a-01cb-4553-8223-ccbfeec54510"
      },
      "source": [
        "lengths = [len(t.split(' ')) for t in tweets]\n",
        "\n",
        "plt.hist(lengths, bins=len(set(lengths)))\n",
        "plt.show()"
      ],
      "execution_count": 33,
      "outputs": [
        {
          "output_type": "display_data",
          "data": {
            "text/plain": [
              "<Figure size 640x480 with 1 Axes>"
            ],
            "image/png": "[encoded data removed]"
          },
          "metadata": {}
        }
      ]
    },
    {
      "cell_type": "code",
      "metadata": {
        "id": "tpOTvhoriJIK"
      },
      "source": [
        "from tensorflow.keras.preprocessing.sequence import pad_sequences"
      ],
      "execution_count": 34,
      "outputs": []
    },
    {
      "cell_type": "code",
      "metadata": {
        "id": "Q9J_Iemf5eiq"
      },
      "source": [
        "def get_sequences(tokenizer, tweets):\n",
        "    sequences = tokenizer.texts_to_sequences(tweets)\n",
        "    padded_sequences = pad_sequences(sequences, truncating='post', maxlen=50, padding='post')\n",
        "    return padded_sequences"
      ],
      "execution_count": 35,
      "outputs": []
    },
    {
      "cell_type": "code",
      "metadata": {
        "id": "eglH77ky5ei0"
      },
      "source": [
        "padded_train_sequences = get_sequences(tokenizer, tweets)"
      ],
      "execution_count": 36,
      "outputs": []
    },
    {
      "cell_type": "code",
      "metadata": {
        "id": "iGR473HA5ei7",
        "colab": {
          "base_uri": "https://localhost:8080/"
        },
        "outputId": "cf04d9e6-c671-475f-92f6-64e735926721"
      },
      "source": [
        "padded_train_sequences[10]"
      ],
      "execution_count": 37,
      "outputs": [
        {
          "output_type": "execute_result",
          "data": {
            "text/plain": [
              "array([   2,  233,   12,    6, 4495,   28,    7, 7979,  317,  518,   75,\n",
              "         21,  291, 2162,    4, 1351,  613,    7,    1,   13,  988,   49,\n",
              "         98,   58,   58,  222, 4298,    4,   75,  133,    1,    0,    0,\n",
              "          0,    0,    0,    0,    0,    0,    0,    0,    0,    0,    0,\n",
              "          0,    0,    0,    0,    0,    0], dtype=int32)"
            ]
          },
          "metadata": {},
          "execution_count": 37
        }
      ]
    },
    {
      "cell_type": "markdown",
      "metadata": {
        "id": "cZ5SSsM4iJIL"
      },
      "source": [
        "## 6. Preparing the Labels"
      ]
    },
    {
      "cell_type": "code",
      "metadata": {
        "id": "SufT2bpD5ejE",
        "colab": {
          "base_uri": "https://localhost:8080/"
        },
        "outputId": "12e4d5c4-2029-4d66-a2ed-05b292895d24"
      },
      "source": [
        "classes = set(labels)\n",
        "print(classes)"
      ],
      "execution_count": 38,
      "outputs": [
        {
          "output_type": "stream",
          "name": "stdout",
          "text": [
            "{'anger', 'sadness', 'joy', 'surprise', 'love', 'fear'}\n"
          ]
        }
      ]
    },
    {
      "cell_type": "code",
      "metadata": {
        "id": "rpwzL88I7YSm",
        "colab": {
          "base_uri": "https://localhost:8080/",
          "height": 430
        },
        "outputId": "a784faa3-f53c-48cd-fbbb-e1f5fa0be046"
      },
      "source": [
        "plt.hist(labels, bins=11)\n",
        "plt.show()"
      ],
      "execution_count": 39,
      "outputs": [
        {
          "output_type": "display_data",
          "data": {
            "text/plain": [
              "<Figure size 640x480 with 1 Axes>"
            ],
            "image/png": "[encoded data removed]"
          },
          "metadata": {}
        }
      ]
    },
    {
      "cell_type": "code",
      "metadata": {
        "id": "dNLF6rXL5ejN"
      },
      "source": [
        "classes_to_index = dict((c, i) for i, c in enumerate(classes))\n",
        "index_to_classes = dict((v, k) for k, v in classes_to_index.items())"
      ],
      "execution_count": 40,
      "outputs": []
    },
    {
      "cell_type": "code",
      "metadata": {
        "id": "_08InVyM5ejc",
        "colab": {
          "base_uri": "https://localhost:8080/"
        },
        "outputId": "766b59d9-dc12-4e5c-fd73-d373c0f099d7"
      },
      "source": [
        "classes_to_index"
      ],
      "execution_count": 41,
      "outputs": [
        {
          "output_type": "execute_result",
          "data": {
            "text/plain": [
              "{'anger': 0, 'sadness': 1, 'joy': 2, 'surprise': 3, 'love': 4, 'fear': 5}"
            ]
          },
          "metadata": {},
          "execution_count": 41
        }
      ]
    },
    {
      "cell_type": "code",
      "metadata": {
        "id": "AJx0hFItiJIO",
        "colab": {
          "base_uri": "https://localhost:8080/"
        },
        "outputId": "4027d7db-3758-4faf-f784-6adec2102054"
      },
      "source": [
        "index_to_classes"
      ],
      "execution_count": 42,
      "outputs": [
        {
          "output_type": "execute_result",
          "data": {
            "text/plain": [
              "{0: 'anger', 1: 'sadness', 2: 'joy', 3: 'surprise', 4: 'love', 5: 'fear'}"
            ]
          },
          "metadata": {},
          "execution_count": 42
        }
      ]
    },
    {
      "cell_type": "code",
      "metadata": {
        "id": "Jq0WJYsP5ejR"
      },
      "source": [
        "names_to_ids = lambda labels: np.array([classes_to_index.get(x) for x in labels])"
      ],
      "execution_count": 43,
      "outputs": []
    },
    {
      "cell_type": "code",
      "metadata": {
        "id": "v15KnrNC5ejW",
        "colab": {
          "base_uri": "https://localhost:8080/"
        },
        "outputId": "e2888f8c-77f3-4882-e988-3401b199abaf"
      },
      "source": [
        "train_labels = names_to_ids(labels)\n",
        "print(train_labels[10])"
      ],
      "execution_count": 44,
      "outputs": [
        {
          "output_type": "stream",
          "name": "stdout",
          "text": [
            "0\n"
          ]
        }
      ]
    },
    {
      "cell_type": "markdown",
      "metadata": {
        "id": "bD4np-KsiJIS"
      },
      "source": [
        "## 7. Creating the Model"
      ]
    },
    {
      "cell_type": "code",
      "metadata": {
        "id": "OpewXxPQ5eji",
        "colab": {
          "base_uri": "https://localhost:8080/"
        },
        "outputId": "e43b7921-a154-4d03-efb3-eb7bcca69c0f"
      },
      "source": [
        "model = tf.keras.models.Sequential([\n",
        "    tf.keras.layers.Embedding(10000, 16, input_length=50),\n",
        "    tf.keras.layers.Bidirectional(tf.keras.layers.LSTM(20, return_sequences=True)),\n",
        "    tf.keras.layers.Bidirectional(tf.keras.layers.LSTM(20)),\n",
        "    tf.keras.layers.Dense(6, activation='softmax')\n",
        "])\n",
        "\n",
        "model.compile(\n",
        "    loss='sparse_categorical_crossentropy',\n",
        "    optimizer='adam',\n",
        "    metrics=['accuracy']\n",
        ")\n",
        "\n",
        "model.summary()"
      ],
      "execution_count": 45,
      "outputs": [
        {
          "output_type": "stream",
          "name": "stdout",
          "text": [
            "Model: \"sequential\"\n",
            "_________________________________________________________________\n",
            " Layer (type)                Output Shape              Param #   \n",
            "=================================================================\n",
            " embedding (Embedding)       (None, 50, 16)            160000    \n",
            "                                                                 \n",
            " bidirectional (Bidirectiona  (None, 50, 40)           5920      \n",
            " l)                                                              \n",
            "                                                                 \n",
            " bidirectional_1 (Bidirectio  (None, 40)               9760      \n",
            " nal)                                                            \n",
            "                                                                 \n",
            " dense (Dense)               (None, 6)                 246       \n",
            "                                                                 \n",
            "=================================================================\n",
            "Total params: 175,926\n",
            "Trainable params: 175,926\n",
            "Non-trainable params: 0\n",
            "_________________________________________________________________\n"
          ]
        }
      ]
    },
    {
      "cell_type": "markdown",
      "metadata": {
        "id": "XiU-m6wEiJIT"
      },
      "source": [
        "## 8. Training the Model"
      ]
    },
    {
      "cell_type": "code",
      "metadata": {
        "id": "bzBqnWQ-5ejw",
        "colab": {
          "base_uri": "https://localhost:8080/"
        },
        "outputId": "0aeb6a19-a875-4e05-f2ae-7cadb4153863"
      },
      "source": [
        "h = model.fit(\n",
        "    padded_train_sequences, train_labels,\n",
        "    epochs=30,\n",
        "    callbacks=[\n",
        "        tf.keras.callbacks.EarlyStopping(monitor='val_accuracy', patience=2)\n",
        "    ]\n",
        ")"
      ],
      "execution_count": 49,
      "outputs": [
        {
          "output_type": "stream",
          "name": "stdout",
          "text": [
            "Epoch 1/30\n",
            "10421/10421 [==============================] - ETA: 0s - loss: 0.2714 - accuracy: 0.8889"
          ]
        },
        {
          "output_type": "stream",
          "name": "stderr",
          "text": [
            "WARNING:tensorflow:Early stopping conditioned on metric `val_accuracy` which is not available. Available metrics are: loss,accuracy\n"
          ]
        },
        {
          "output_type": "stream",
          "name": "stdout",
          "text": [
            "\b\b\b\b\b\b\b\b\b\b\b\b\b\b\b\b\b\b\b\b\b\b\b\b\b\b\b\b\b\b\b\b\b\b\b\b\b\b\b\b\b\b\b\b\b\b\b\b\b\b\b\b\b\b\b\b\b\b\b\b\b\b\b\b\b\b\b\b\b\b\b\b\b\b\b\b\b\b\b\b\b\b\b\b\b\b\b\b\r10421/10421 [==============================] - 178s 16ms/step - loss: 0.2714 - accuracy: 0.8889\n",
            "Epoch 2/30\n",
            "10421/10421 [==============================] - ETA: 0s - loss: 0.1093 - accuracy: 0.9352"
          ]
        },
        {
          "output_type": "stream",
          "name": "stderr",
          "text": [
            "WARNING:tensorflow:Early stopping conditioned on metric `val_accuracy` which is not available. Available metrics are: loss,accuracy\n"
          ]
        },
        {
          "output_type": "stream",
          "name": "stdout",
          "text": [
            "\b\b\b\b\b\b\b\b\b\b\b\b\b\b\b\b\b\b\b\b\b\b\b\b\b\b\b\b\b\b\b\b\b\b\b\b\b\b\b\b\b\b\b\b\b\b\b\b\b\b\b\b\b\b\b\b\b\b\b\b\b\b\b\b\b\b\b\b\b\b\b\b\b\b\b\b\b\b\b\b\b\b\b\b\b\b\b\b\r10421/10421 [==============================] - 135s 13ms/step - loss: 0.1093 - accuracy: 0.9352\n",
            "Epoch 3/30\n",
            "10421/10421 [==============================] - ETA: 0s - loss: 0.0965 - accuracy: 0.9393"
          ]
        },
        {
          "output_type": "stream",
          "name": "stderr",
          "text": [
            "WARNING:tensorflow:Early stopping conditioned on metric `val_accuracy` which is not available. Available metrics are: loss,accuracy\n"
          ]
        },
        {
          "output_type": "stream",
          "name": "stdout",
          "text": [
            "\b\b\b\b\b\b\b\b\b\b\b\b\b\b\b\b\b\b\b\b\b\b\b\b\b\b\b\b\b\b\b\b\b\b\b\b\b\b\b\b\b\b\b\b\b\b\b\b\b\b\b\b\b\b\b\b\b\b\b\b\b\b\b\b\b\b\b\b\b\b\b\b\b\b\b\b\b\b\b\b\b\b\b\b\b\b\b\b\r10421/10421 [==============================] - 134s 13ms/step - loss: 0.0965 - accuracy: 0.9393\n",
            "Epoch 4/30\n",
            "10421/10421 [==============================] - ETA: 0s - loss: 0.0916 - accuracy: 0.9409"
          ]
        },
        {
          "output_type": "stream",
          "name": "stderr",
          "text": [
            "WARNING:tensorflow:Early stopping conditioned on metric `val_accuracy` which is not available. Available metrics are: loss,accuracy\n"
          ]
        },
        {
          "output_type": "stream",
          "name": "stdout",
          "text": [
            "\b\b\b\b\b\b\b\b\b\b\b\b\b\b\b\b\b\b\b\b\b\b\b\b\b\b\b\b\b\b\b\b\b\b\b\b\b\b\b\b\b\b\b\b\b\b\b\b\b\b\b\b\b\b\b\b\b\b\b\b\b\b\b\b\b\b\b\b\b\b\b\b\b\b\b\b\b\b\b\b\b\b\b\b\b\b\b\b\r10421/10421 [==============================] - 136s 13ms/step - loss: 0.0916 - accuracy: 0.9409\n",
            "Epoch 5/30\n",
            "10421/10421 [==============================] - ETA: 0s - loss: 0.0886 - accuracy: 0.9422"
          ]
        },
        {
          "output_type": "stream",
          "name": "stderr",
          "text": [
            "WARNING:tensorflow:Early stopping conditioned on metric `val_accuracy` which is not available. Available metrics are: loss,accuracy\n"
          ]
        },
        {
          "output_type": "stream",
          "name": "stdout",
          "text": [
            "\b\b\b\b\b\b\b\b\b\b\b\b\b\b\b\b\b\b\b\b\b\b\b\b\b\b\b\b\b\b\b\b\b\b\b\b\b\b\b\b\b\b\b\b\b\b\b\b\b\b\b\b\b\b\b\b\b\b\b\b\b\b\b\b\b\b\b\b\b\b\b\b\b\b\b\b\b\b\b\b\b\b\b\b\b\b\b\b\r10421/10421 [==============================] - 140s 13ms/step - loss: 0.0886 - accuracy: 0.9422\n",
            "Epoch 6/30\n",
            "10421/10421 [==============================] - ETA: 0s - loss: 0.0864 - accuracy: 0.9427"
          ]
        },
        {
          "output_type": "stream",
          "name": "stderr",
          "text": [
            "WARNING:tensorflow:Early stopping conditioned on metric `val_accuracy` which is not available. Available metrics are: loss,accuracy\n"
          ]
        },
        {
          "output_type": "stream",
          "name": "stdout",
          "text": [
            "\b\b\b\b\b\b\b\b\b\b\b\b\b\b\b\b\b\b\b\b\b\b\b\b\b\b\b\b\b\b\b\b\b\b\b\b\b\b\b\b\b\b\b\b\b\b\b\b\b\b\b\b\b\b\b\b\b\b\b\b\b\b\b\b\b\b\b\b\b\b\b\b\b\b\b\b\b\b\b\b\b\b\b\b\b\b\b\b\r10421/10421 [==============================] - 137s 13ms/step - loss: 0.0864 - accuracy: 0.9427\n",
            "Epoch 7/30\n",
            "10420/10421 [============================>.] - ETA: 0s - loss: 0.0848 - accuracy: 0.9427"
          ]
        },
        {
          "output_type": "stream",
          "name": "stderr",
          "text": [
            "WARNING:tensorflow:Early stopping conditioned on metric `val_accuracy` which is not available. Available metrics are: loss,accuracy\n"
          ]
        },
        {
          "output_type": "stream",
          "name": "stdout",
          "text": [
            "\b\b\b\b\b\b\b\b\b\b\b\b\b\b\b\b\b\b\b\b\b\b\b\b\b\b\b\b\b\b\b\b\b\b\b\b\b\b\b\b\b\b\b\b\b\b\b\b\b\b\b\b\b\b\b\b\b\b\b\b\b\b\b\b\b\b\b\b\b\b\b\b\b\b\b\b\b\b\b\b\b\b\b\b\b\b\b\b\r10421/10421 [==============================] - 134s 13ms/step - loss: 0.0848 - accuracy: 0.9427\n",
            "Epoch 8/30\n",
            "10421/10421 [==============================] - ETA: 0s - loss: 0.0836 - accuracy: 0.9434"
          ]
        },
        {
          "output_type": "stream",
          "name": "stderr",
          "text": [
            "WARNING:tensorflow:Early stopping conditioned on metric `val_accuracy` which is not available. Available metrics are: loss,accuracy\n"
          ]
        },
        {
          "output_type": "stream",
          "name": "stdout",
          "text": [
            "\b\b\b\b\b\b\b\b\b\b\b\b\b\b\b\b\b\b\b\b\b\b\b\b\b\b\b\b\b\b\b\b\b\b\b\b\b\b\b\b\b\b\b\b\b\b\b\b\b\b\b\b\b\b\b\b\b\b\b\b\b\b\b\b\b\b\b\b\b\b\b\b\b\b\b\b\b\b\b\b\b\b\b\b\b\b\b\b\r10421/10421 [==============================] - 134s 13ms/step - loss: 0.0836 - accuracy: 0.9434\n",
            "Epoch 9/30\n",
            "10421/10421 [==============================] - ETA: 0s - loss: 0.0825 - accuracy: 0.9435"
          ]
        },
        {
          "output_type": "stream",
          "name": "stderr",
          "text": [
            "WARNING:tensorflow:Early stopping conditioned on metric `val_accuracy` which is not available. Available metrics are: loss,accuracy\n"
          ]
        },
        {
          "output_type": "stream",
          "name": "stdout",
          "text": [
            "\b\b\b\b\b\b\b\b\b\b\b\b\b\b\b\b\b\b\b\b\b\b\b\b\b\b\b\b\b\b\b\b\b\b\b\b\b\b\b\b\b\b\b\b\b\b\b\b\b\b\b\b\b\b\b\b\b\b\b\b\b\b\b\b\b\b\b\b\b\b\b\b\b\b\b\b\b\b\b\b\b\b\b\b\b\b\b\b\r10421/10421 [==============================] - 134s 13ms/step - loss: 0.0825 - accuracy: 0.9435\n",
            "Epoch 10/30\n",
            "10421/10421 [==============================] - ETA: 0s - loss: 0.0820 - accuracy: 0.9442"
          ]
        },
        {
          "output_type": "stream",
          "name": "stderr",
          "text": [
            "WARNING:tensorflow:Early stopping conditioned on metric `val_accuracy` which is not available. Available metrics are: loss,accuracy\n"
          ]
        },
        {
          "output_type": "stream",
          "name": "stdout",
          "text": [
            "\b\b\b\b\b\b\b\b\b\b\b\b\b\b\b\b\b\b\b\b\b\b\b\b\b\b\b\b\b\b\b\b\b\b\b\b\b\b\b\b\b\b\b\b\b\b\b\b\b\b\b\b\b\b\b\b\b\b\b\b\b\b\b\b\b\b\b\b\b\b\b\b\b\b\b\b\b\b\b\b\b\b\b\b\b\b\b\b\r10421/10421 [==============================] - 135s 13ms/step - loss: 0.0820 - accuracy: 0.9442\n",
            "Epoch 11/30\n",
            "10421/10421 [==============================] - ETA: 0s - loss: 0.0811 - accuracy: 0.9446"
          ]
        },
        {
          "output_type": "stream",
          "name": "stderr",
          "text": [
            "WARNING:tensorflow:Early stopping conditioned on metric `val_accuracy` which is not available. Available metrics are: loss,accuracy\n"
          ]
        },
        {
          "output_type": "stream",
          "name": "stdout",
          "text": [
            "\b\b\b\b\b\b\b\b\b\b\b\b\b\b\b\b\b\b\b\b\b\b\b\b\b\b\b\b\b\b\b\b\b\b\b\b\b\b\b\b\b\b\b\b\b\b\b\b\b\b\b\b\b\b\b\b\b\b\b\b\b\b\b\b\b\b\b\b\b\b\b\b\b\b\b\b\b\b\b\b\b\b\b\b\b\b\b\b\r10421/10421 [==============================] - 133s 13ms/step - loss: 0.0811 - accuracy: 0.9446\n",
            "Epoch 12/30\n",
            "10421/10421 [==============================] - ETA: 0s - loss: 0.0808 - accuracy: 0.9445"
          ]
        },
        {
          "output_type": "stream",
          "name": "stderr",
          "text": [
            "WARNING:tensorflow:Early stopping conditioned on metric `val_accuracy` which is not available. Available metrics are: loss,accuracy\n"
          ]
        },
        {
          "output_type": "stream",
          "name": "stdout",
          "text": [
            "\b\b\b\b\b\b\b\b\b\b\b\b\b\b\b\b\b\b\b\b\b\b\b\b\b\b\b\b\b\b\b\b\b\b\b\b\b\b\b\b\b\b\b\b\b\b\b\b\b\b\b\b\b\b\b\b\b\b\b\b\b\b\b\b\b\b\b\b\b\b\b\b\b\b\b\b\b\b\b\b\b\b\b\b\b\b\b\b\r10421/10421 [==============================] - 132s 13ms/step - loss: 0.0808 - accuracy: 0.9445\n",
            "Epoch 13/30\n",
            "10421/10421 [==============================] - ETA: 0s - loss: 0.0801 - accuracy: 0.9449"
          ]
        },
        {
          "output_type": "stream",
          "name": "stderr",
          "text": [
            "WARNING:tensorflow:Early stopping conditioned on metric `val_accuracy` which is not available. Available metrics are: loss,accuracy\n"
          ]
        },
        {
          "output_type": "stream",
          "name": "stdout",
          "text": [
            "\b\b\b\b\b\b\b\b\b\b\b\b\b\b\b\b\b\b\b\b\b\b\b\b\b\b\b\b\b\b\b\b\b\b\b\b\b\b\b\b\b\b\b\b\b\b\b\b\b\b\b\b\b\b\b\b\b\b\b\b\b\b\b\b\b\b\b\b\b\b\b\b\b\b\b\b\b\b\b\b\b\b\b\b\b\b\b\b\r10421/10421 [==============================] - 137s 13ms/step - loss: 0.0801 - accuracy: 0.9449\n",
            "Epoch 14/30\n",
            "10421/10421 [==============================] - ETA: 0s - loss: 0.0796 - accuracy: 0.9451"
          ]
        },
        {
          "output_type": "stream",
          "name": "stderr",
          "text": [
            "WARNING:tensorflow:Early stopping conditioned on metric `val_accuracy` which is not available. Available metrics are: loss,accuracy\n"
          ]
        },
        {
          "output_type": "stream",
          "name": "stdout",
          "text": [
            "\b\b\b\b\b\b\b\b\b\b\b\b\b\b\b\b\b\b\b\b\b\b\b\b\b\b\b\b\b\b\b\b\b\b\b\b\b\b\b\b\b\b\b\b\b\b\b\b\b\b\b\b\b\b\b\b\b\b\b\b\b\b\b\b\b\b\b\b\b\b\b\b\b\b\b\b\b\b\b\b\b\b\b\b\b\b\b\b\r10421/10421 [==============================] - 134s 13ms/step - loss: 0.0796 - accuracy: 0.9451\n",
            "Epoch 15/30\n",
            "10421/10421 [==============================] - ETA: 0s - loss: 0.0791 - accuracy: 0.9461"
          ]
        },
        {
          "output_type": "stream",
          "name": "stderr",
          "text": [
            "WARNING:tensorflow:Early stopping conditioned on metric `val_accuracy` which is not available. Available metrics are: loss,accuracy\n"
          ]
        },
        {
          "output_type": "stream",
          "name": "stdout",
          "text": [
            "\b\b\b\b\b\b\b\b\b\b\b\b\b\b\b\b\b\b\b\b\b\b\b\b\b\b\b\b\b\b\b\b\b\b\b\b\b\b\b\b\b\b\b\b\b\b\b\b\b\b\b\b\b\b\b\b\b\b\b\b\b\b\b\b\b\b\b\b\b\b\b\b\b\b\b\b\b\b\b\b\b\b\b\b\b\b\b\b\r10421/10421 [==============================] - 141s 14ms/step - loss: 0.0791 - accuracy: 0.9461\n",
            "Epoch 16/30\n",
            "10421/10421 [==============================] - ETA: 0s - loss: 0.0787 - accuracy: 0.9456"
          ]
        },
        {
          "output_type": "stream",
          "name": "stderr",
          "text": [
            "WARNING:tensorflow:Early stopping conditioned on metric `val_accuracy` which is not available. Available metrics are: loss,accuracy\n"
          ]
        },
        {
          "output_type": "stream",
          "name": "stdout",
          "text": [
            "\b\b\b\b\b\b\b\b\b\b\b\b\b\b\b\b\b\b\b\b\b\b\b\b\b\b\b\b\b\b\b\b\b\b\b\b\b\b\b\b\b\b\b\b\b\b\b\b\b\b\b\b\b\b\b\b\b\b\b\b\b\b\b\b\b\b\b\b\b\b\b\b\b\b\b\b\b\b\b\b\b\b\b\b\b\b\b\b\r10421/10421 [==============================] - 135s 13ms/step - loss: 0.0787 - accuracy: 0.9456\n",
            "Epoch 17/30\n",
            "10421/10421 [==============================] - ETA: 0s - loss: 0.0784 - accuracy: 0.9464"
          ]
        },
        {
          "output_type": "stream",
          "name": "stderr",
          "text": [
            "WARNING:tensorflow:Early stopping conditioned on metric `val_accuracy` which is not available. Available metrics are: loss,accuracy\n"
          ]
        },
        {
          "output_type": "stream",
          "name": "stdout",
          "text": [
            "\b\b\b\b\b\b\b\b\b\b\b\b\b\b\b\b\b\b\b\b\b\b\b\b\b\b\b\b\b\b\b\b\b\b\b\b\b\b\b\b\b\b\b\b\b\b\b\b\b\b\b\b\b\b\b\b\b\b\b\b\b\b\b\b\b\b\b\b\b\b\b\b\b\b\b\b\b\b\b\b\b\b\b\b\b\b\b\b\r10421/10421 [==============================] - 144s 14ms/step - loss: 0.0784 - accuracy: 0.9464\n",
            "Epoch 18/30\n",
            "10418/10421 [============================>.] - ETA: 0s - loss: 0.0782 - accuracy: 0.9462"
          ]
        },
        {
          "output_type": "stream",
          "name": "stderr",
          "text": [
            "WARNING:tensorflow:Early stopping conditioned on metric `val_accuracy` which is not available. Available metrics are: loss,accuracy\n"
          ]
        },
        {
          "output_type": "stream",
          "name": "stdout",
          "text": [
            "\b\b\b\b\b\b\b\b\b\b\b\b\b\b\b\b\b\b\b\b\b\b\b\b\b\b\b\b\b\b\b\b\b\b\b\b\b\b\b\b\b\b\b\b\b\b\b\b\b\b\b\b\b\b\b\b\b\b\b\b\b\b\b\b\b\b\b\b\b\b\b\b\b\b\b\b\b\b\b\b\b\b\b\b\b\b\b\b\r10421/10421 [==============================] - 146s 14ms/step - loss: 0.0782 - accuracy: 0.9462\n",
            "Epoch 19/30\n",
            "10421/10421 [==============================] - ETA: 0s - loss: 0.0783 - accuracy: 0.9466"
          ]
        },
        {
          "output_type": "stream",
          "name": "stderr",
          "text": [
            "WARNING:tensorflow:Early stopping conditioned on metric `val_accuracy` which is not available. Available metrics are: loss,accuracy\n"
          ]
        },
        {
          "output_type": "stream",
          "name": "stdout",
          "text": [
            "\b\b\b\b\b\b\b\b\b\b\b\b\b\b\b\b\b\b\b\b\b\b\b\b\b\b\b\b\b\b\b\b\b\b\b\b\b\b\b\b\b\b\b\b\b\b\b\b\b\b\b\b\b\b\b\b\b\b\b\b\b\b\b\b\b\b\b\b\b\b\b\b\b\b\b\b\b\b\b\b\b\b\b\b\b\b\b\b\r10421/10421 [==============================] - 138s 13ms/step - loss: 0.0783 - accuracy: 0.9466\n",
            "Epoch 20/30\n",
            "10421/10421 [==============================] - ETA: 0s - loss: 0.0779 - accuracy: 0.9468"
          ]
        },
        {
          "output_type": "stream",
          "name": "stderr",
          "text": [
            "WARNING:tensorflow:Early stopping conditioned on metric `val_accuracy` which is not available. Available metrics are: loss,accuracy\n"
          ]
        },
        {
          "output_type": "stream",
          "name": "stdout",
          "text": [
            "\b\b\b\b\b\b\b\b\b\b\b\b\b\b\b\b\b\b\b\b\b\b\b\b\b\b\b\b\b\b\b\b\b\b\b\b\b\b\b\b\b\b\b\b\b\b\b\b\b\b\b\b\b\b\b\b\b\b\b\b\b\b\b\b\b\b\b\b\b\b\b\b\b\b\b\b\b\b\b\b\b\b\b\b\b\b\b\b\r10421/10421 [==============================] - 137s 13ms/step - loss: 0.0779 - accuracy: 0.9468\n",
            "Epoch 21/30\n",
            "10421/10421 [==============================] - ETA: 0s - loss: 0.0776 - accuracy: 0.9471"
          ]
        },
        {
          "output_type": "stream",
          "name": "stderr",
          "text": [
            "WARNING:tensorflow:Early stopping conditioned on metric `val_accuracy` which is not available. Available metrics are: loss,accuracy\n"
          ]
        },
        {
          "output_type": "stream",
          "name": "stdout",
          "text": [
            "\b\b\b\b\b\b\b\b\b\b\b\b\b\b\b\b\b\b\b\b\b\b\b\b\b\b\b\b\b\b\b\b\b\b\b\b\b\b\b\b\b\b\b\b\b\b\b\b\b\b\b\b\b\b\b\b\b\b\b\b\b\b\b\b\b\b\b\b\b\b\b\b\b\b\b\b\b\b\b\b\b\b\b\b\b\b\b\b\r10421/10421 [==============================] - 138s 13ms/step - loss: 0.0776 - accuracy: 0.9471\n",
            "Epoch 22/30\n",
            "10421/10421 [==============================] - ETA: 0s - loss: 0.0770 - accuracy: 0.9476"
          ]
        },
        {
          "output_type": "stream",
          "name": "stderr",
          "text": [
            "WARNING:tensorflow:Early stopping conditioned on metric `val_accuracy` which is not available. Available metrics are: loss,accuracy\n"
          ]
        },
        {
          "output_type": "stream",
          "name": "stdout",
          "text": [
            "\b\b\b\b\b\b\b\b\b\b\b\b\b\b\b\b\b\b\b\b\b\b\b\b\b\b\b\b\b\b\b\b\b\b\b\b\b\b\b\b\b\b\b\b\b\b\b\b\b\b\b\b\b\b\b\b\b\b\b\b\b\b\b\b\b\b\b\b\b\b\b\b\b\b\b\b\b\b\b\b\b\b\b\b\b\b\b\b\r10421/10421 [==============================] - 136s 13ms/step - loss: 0.0770 - accuracy: 0.9476\n",
            "Epoch 23/30\n",
            "10421/10421 [==============================] - ETA: 0s - loss: 0.0766 - accuracy: 0.9473"
          ]
        },
        {
          "output_type": "stream",
          "name": "stderr",
          "text": [
            "WARNING:tensorflow:Early stopping conditioned on metric `val_accuracy` which is not available. Available metrics are: loss,accuracy\n"
          ]
        },
        {
          "output_type": "stream",
          "name": "stdout",
          "text": [
            "\b\b\b\b\b\b\b\b\b\b\b\b\b\b\b\b\b\b\b\b\b\b\b\b\b\b\b\b\b\b\b\b\b\b\b\b\b\b\b\b\b\b\b\b\b\b\b\b\b\b\b\b\b\b\b\b\b\b\b\b\b\b\b\b\b\b\b\b\b\b\b\b\b\b\b\b\b\b\b\b\b\b\b\b\b\b\b\b\r10421/10421 [==============================] - 133s 13ms/step - loss: 0.0766 - accuracy: 0.9473\n",
            "Epoch 24/30\n",
            "10421/10421 [==============================] - ETA: 0s - loss: 0.0766 - accuracy: 0.9471"
          ]
        },
        {
          "output_type": "stream",
          "name": "stderr",
          "text": [
            "WARNING:tensorflow:Early stopping conditioned on metric `val_accuracy` which is not available. Available metrics are: loss,accuracy\n"
          ]
        },
        {
          "output_type": "stream",
          "name": "stdout",
          "text": [
            "\b\b\b\b\b\b\b\b\b\b\b\b\b\b\b\b\b\b\b\b\b\b\b\b\b\b\b\b\b\b\b\b\b\b\b\b\b\b\b\b\b\b\b\b\b\b\b\b\b\b\b\b\b\b\b\b\b\b\b\b\b\b\b\b\b\b\b\b\b\b\b\b\b\b\b\b\b\b\b\b\b\b\b\b\b\b\b\b\r10421/10421 [==============================] - 134s 13ms/step - loss: 0.0766 - accuracy: 0.9471\n",
            "Epoch 25/30\n",
            "10421/10421 [==============================] - ETA: 0s - loss: 0.0764 - accuracy: 0.9480"
          ]
        },
        {
          "output_type": "stream",
          "name": "stderr",
          "text": [
            "WARNING:tensorflow:Early stopping conditioned on metric `val_accuracy` which is not available. Available metrics are: loss,accuracy\n"
          ]
        },
        {
          "output_type": "stream",
          "name": "stdout",
          "text": [
            "\b\b\b\b\b\b\b\b\b\b\b\b\b\b\b\b\b\b\b\b\b\b\b\b\b\b\b\b\b\b\b\b\b\b\b\b\b\b\b\b\b\b\b\b\b\b\b\b\b\b\b\b\b\b\b\b\b\b\b\b\b\b\b\b\b\b\b\b\b\b\b\b\b\b\b\b\b\b\b\b\b\b\b\b\b\b\b\b\r10421/10421 [==============================] - 148s 14ms/step - loss: 0.0764 - accuracy: 0.9480\n",
            "Epoch 26/30\n",
            "10421/10421 [==============================] - ETA: 0s - loss: 0.0759 - accuracy: 0.9485"
          ]
        },
        {
          "output_type": "stream",
          "name": "stderr",
          "text": [
            "WARNING:tensorflow:Early stopping conditioned on metric `val_accuracy` which is not available. Available metrics are: loss,accuracy\n"
          ]
        },
        {
          "output_type": "stream",
          "name": "stdout",
          "text": [
            "\b\b\b\b\b\b\b\b\b\b\b\b\b\b\b\b\b\b\b\b\b\b\b\b\b\b\b\b\b\b\b\b\b\b\b\b\b\b\b\b\b\b\b\b\b\b\b\b\b\b\b\b\b\b\b\b\b\b\b\b\b\b\b\b\b\b\b\b\b\b\b\b\b\b\b\b\b\b\b\b\b\b\b\b\b\b\b\b\r10421/10421 [==============================] - 156s 15ms/step - loss: 0.0759 - accuracy: 0.9485\n",
            "Epoch 27/30\n",
            "10421/10421 [==============================] - ETA: 0s - loss: 0.0755 - accuracy: 0.9485"
          ]
        },
        {
          "output_type": "stream",
          "name": "stderr",
          "text": [
            "WARNING:tensorflow:Early stopping conditioned on metric `val_accuracy` which is not available. Available metrics are: loss,accuracy\n"
          ]
        },
        {
          "output_type": "stream",
          "name": "stdout",
          "text": [
            "\b\b\b\b\b\b\b\b\b\b\b\b\b\b\b\b\b\b\b\b\b\b\b\b\b\b\b\b\b\b\b\b\b\b\b\b\b\b\b\b\b\b\b\b\b\b\b\b\b\b\b\b\b\b\b\b\b\b\b\b\b\b\b\b\b\b\b\b\b\b\b\b\b\b\b\b\b\b\b\b\b\b\b\b\b\b\b\b\r10421/10421 [==============================] - 162s 16ms/step - loss: 0.0755 - accuracy: 0.9485\n",
            "Epoch 28/30\n",
            "10421/10421 [==============================] - ETA: 0s - loss: 0.0757 - accuracy: 0.9486"
          ]
        },
        {
          "output_type": "stream",
          "name": "stderr",
          "text": [
            "WARNING:tensorflow:Early stopping conditioned on metric `val_accuracy` which is not available. Available metrics are: loss,accuracy\n"
          ]
        },
        {
          "output_type": "stream",
          "name": "stdout",
          "text": [
            "\b\b\b\b\b\b\b\b\b\b\b\b\b\b\b\b\b\b\b\b\b\b\b\b\b\b\b\b\b\b\b\b\b\b\b\b\b\b\b\b\b\b\b\b\b\b\b\b\b\b\b\b\b\b\b\b\b\b\b\b\b\b\b\b\b\b\b\b\b\b\b\b\b\b\b\b\b\b\b\b\b\b\b\b\b\b\b\b\r10421/10421 [==============================] - 137s 13ms/step - loss: 0.0757 - accuracy: 0.9486\n",
            "Epoch 29/30\n",
            "10421/10421 [==============================] - ETA: 0s - loss: 0.0754 - accuracy: 0.9489"
          ]
        },
        {
          "output_type": "stream",
          "name": "stderr",
          "text": [
            "WARNING:tensorflow:Early stopping conditioned on metric `val_accuracy` which is not available. Available metrics are: loss,accuracy\n"
          ]
        },
        {
          "output_type": "stream",
          "name": "stdout",
          "text": [
            "\b\b\b\b\b\b\b\b\b\b\b\b\b\b\b\b\b\b\b\b\b\b\b\b\b\b\b\b\b\b\b\b\b\b\b\b\b\b\b\b\b\b\b\b\b\b\b\b\b\b\b\b\b\b\b\b\b\b\b\b\b\b\b\b\b\b\b\b\b\b\b\b\b\b\b\b\b\b\b\b\b\b\b\b\b\b\b\b\r10421/10421 [==============================] - 134s 13ms/step - loss: 0.0754 - accuracy: 0.9489\n",
            "Epoch 30/30\n",
            "10421/10421 [==============================] - ETA: 0s - loss: 0.0753 - accuracy: 0.9487"
          ]
        },
        {
          "output_type": "stream",
          "name": "stderr",
          "text": [
            "WARNING:tensorflow:Early stopping conditioned on metric `val_accuracy` which is not available. Available metrics are: loss,accuracy\n"
          ]
        },
        {
          "output_type": "stream",
          "name": "stdout",
          "text": [
            "\b\b\b\b\b\b\b\b\b\b\b\b\b\b\b\b\b\b\b\b\b\b\b\b\b\b\b\b\b\b\b\b\b\b\b\b\b\b\b\b\b\b\b\b\b\b\b\b\b\b\b\b\b\b\b\b\b\b\b\b\b\b\b\b\b\b\b\b\b\b\b\b\b\b\b\b\b\b\b\b\b\b\b\b\b\b\b\b\r10421/10421 [==============================] - 139s 13ms/step - loss: 0.0753 - accuracy: 0.9487\n"
          ]
        }
      ]
    },
    {
      "cell_type": "markdown",
      "metadata": {
        "id": "kiKaj-3RiJIV"
      },
      "source": [
        "## 9. Evaluating the Model"
      ]
    },
    {
      "cell_type": "code",
      "metadata": {
        "id": "4xCKeBP1iJIV"
      },
      "source": [
        "test_tweets, test_labels = get_tweets(test)\n",
        "test_sequences = get_sequences(tokenizer, test_tweets)\n",
        "test_labels = names_to_ids(test_labels)"
      ],
      "execution_count": 51,
      "outputs": []
    },
    {
      "cell_type": "code",
      "metadata": {
        "id": "aM7kditpiJIV",
        "colab": {
          "base_uri": "https://localhost:8080/"
        },
        "outputId": "fb05068c-4608-4972-8d98-134313578887"
      },
      "source": [
        "eval = model.evaluate(test_sequences, test_labels)"
      ],
      "execution_count": 52,
      "outputs": [
        {
          "output_type": "stream",
          "name": "stdout",
          "text": [
            "2606/2606 [==============================] - 18s 6ms/step - loss: 0.1646 - accuracy: 0.9212\n"
          ]
        }
      ]
    },
    {
      "cell_type": "code",
      "metadata": {
        "id": "rh638vHG5ej6",
        "colab": {
          "base_uri": "https://localhost:8080/"
        },
        "outputId": "6a573f6e-eae8-46fb-ec68-3550c49113a6"
      },
      "source": [
        "for a in range(0,5):\n",
        "  i = random.randint(0, len(test_labels) - 1)\n",
        "\n",
        "  print('Tweet:', test_tweets[i])\n",
        "  print('Actual Emotion:', index_to_classes[test_labels[i]])\n",
        "\n",
        "  p = np.argmax(model.predict(np.expand_dims(test_sequences[i], axis=0))[0],axis=-1)\n",
        "  \n",
        "  print('Predicted Emotion:', index_to_classes.get(p), '\\n')"
      ],
      "execution_count": 68,
      "outputs": [
        {
          "output_type": "stream",
          "name": "stdout",
          "text": [
            "Tweet: i need in an area i feel uncomfortable\n",
            "Actual Emotion: fear\n",
            "1/1 [==============================] - 0s 21ms/step\n",
            "Predicted Emotion: fear \n",
            "\n",
            "Tweet: i feel very lucky to have good lecturer that always willing to teach us and provide us with good guidance and advice on my academic\n",
            "Actual Emotion: joy\n",
            "1/1 [==============================] - 0s 24ms/step\n",
            "Predicted Emotion: joy \n",
            "\n",
            "Tweet: i feel proud about my collection when others come over and say no wonder youre so smart\n",
            "Actual Emotion: joy\n",
            "1/1 [==============================] - 0s 21ms/step\n",
            "Predicted Emotion: joy \n",
            "\n",
            "Tweet: i feel a welcomed obligation to learn spanish\n",
            "Actual Emotion: joy\n",
            "1/1 [==============================] - 0s 21ms/step\n",
            "Predicted Emotion: joy \n",
            "\n",
            "Tweet: i feel quite vulnerable sharing this here\n",
            "Actual Emotion: fear\n",
            "1/1 [==============================] - 0s 21ms/step\n",
            "Predicted Emotion: fear \n",
            "\n"
          ]
        }
      ]
    },
    {
      "cell_type": "code",
      "metadata": {
        "id": "_i9LUUDsiJIW",
        "colab": {
          "base_uri": "https://localhost:8080/"
        },
        "outputId": "7fa1ef7e-c7e4-464f-c3f6-4e40d55db856"
      },
      "source": [
        "preds = np.argmax(model.predict(test_sequences),axis=-1)\n",
        "preds.shape, test_labels.shape"
      ],
      "execution_count": 69,
      "outputs": [
        {
          "output_type": "stream",
          "name": "stdout",
          "text": [
            "2606/2606 [==============================] - 16s 6ms/step\n"
          ]
        },
        {
          "output_type": "execute_result",
          "data": {
            "text/plain": [
              "((83362,), (83362,))"
            ]
          },
          "metadata": {},
          "execution_count": 69
        }
      ]
    },
    {
      "cell_type": "code",
      "metadata": {
        "id": "3nLW-iSYiJIX",
        "colab": {
          "base_uri": "https://localhost:8080/",
          "height": 661
        },
        "outputId": "89078927-4cbe-4dc6-f9d6-24842347d958"
      },
      "source": [
        "def show_confusion_matrix(y_true, y_pred, classes):\n",
        "    from sklearn.metrics import confusion_matrix\n",
        "    \n",
        "    cm = confusion_matrix(y_true, y_pred, normalize='true')\n",
        "\n",
        "    plt.figure(figsize=(8, 8))\n",
        "    sp = plt.subplot(1, 1, 1)\n",
        "    ctx = sp.matshow(cm)\n",
        "    plt.xticks(list(range(0, 6)), labels=classes)\n",
        "    plt.yticks(list(range(0, 6)), labels=classes)\n",
        "    plt.colorbar(ctx)\n",
        "    plt.show()\n",
        "    \n",
        "show_confusion_matrix(test_labels, preds, list(classes))"
      ],
      "execution_count": 70,
      "outputs": [
        {
          "output_type": "display_data",
          "data": {
            "text/plain": [
              "<Figure size 800x800 with 2 Axes>"
            ],
            "image/png": "[encoded data removed]"
          },
          "metadata": {}
        }
      ]
    },
    {
      "cell_type": "markdown",
      "source": [
        "## 10. Emoji Recommendation"
      ],
      "metadata": {
        "id": "DFwlwhU9aUZt"
      }
    },
    {
      "cell_type": "code",
      "source": [
        "!pip install unrar\n",
        "!unrar x '/content/drive/MyDrive/Emojis.rar'"
      ],
      "metadata": {
        "colab": {
          "base_uri": "https://localhost:8080/"
        },
        "id": "ZNHR1qFqaTcN",
        "outputId": "2edfa7ea-a783-47fb-9d36-33d06669ef66"
      },
      "execution_count": 75,
      "outputs": [
        {
          "output_type": "stream",
          "name": "stdout",
          "text": [
            "Looking in indexes: https://pypi.org/simple, https://us-python.pkg.dev/colab-wheels/public/simple/\n",
            "Collecting unrar\n",
            "  Downloading unrar-0.4-py3-none-any.whl (25 kB)\n",
            "Installing collected packages: unrar\n",
            "Successfully installed unrar-0.4\n",
            "\n",
            "UNRAR 5.61 beta 1 freeware      Copyright (c) 1993-2018 Alexander Roshal\n",
            "\n",
            "\n",
            "Extracting from /content/drive/MyDrive/Emojis.rar\n",
            "\n",
            "Creating    Emojis                                                    OK\n",
            "Extracting  Emojis/Angry-1.png                                           \b\b\b\b  3%\b\b\b\b\b  OK \n",
            "Extracting  Emojis/Angry-2.png                                           \b\b\b\b  6%\b\b\b\b\b  OK \n",
            "Extracting  Emojis/Angry-3.png                                           \b\b\b\b  9%\b\b\b\b\b  OK \n",
            "Extracting  Emojis/Angry-4.png                                           \b\b\b\b 11%\b\b\b\b\b  OK \n",
            "Extracting  Emojis/Angry-5.png                                           \b\b\b\b 15%\b\b\b\b\b  OK \n",
            "Extracting  Emojis/Fear-1.png                                            \b\b\b\b 18%\b\b\b\b\b  OK \n",
            "Extracting  Emojis/Fear-2.png                                            \b\b\b\b 22%\b\b\b\b\b  OK \n",
            "Extracting  Emojis/Fear-3.png                                            \b\b\b\b 25%\b\b\b\b\b  OK \n",
            "Extracting  Emojis/Fear-4.png                                            \b\b\b\b 29%\b\b\b\b\b  OK \n",
            "Extracting  Emojis/Fear-5.png                                            \b\b\b\b 32%\b\b\b\b\b  OK \n",
            "Extracting  Emojis/Happy-1.png                                           \b\b\b\b 35%\b\b\b\b\b  OK \n",
            "Extracting  Emojis/Happy-2.png                                           \b\b\b\b 38%\b\b\b\b\b  OK \n",
            "Extracting  Emojis/Happy-3.png                                           \b\b\b\b 42%\b\b\b\b\b  OK \n",
            "Extracting  Emojis/Happy-4.png                                           \b\b\b\b 47%\b\b\b\b\b  OK \n",
            "Extracting  Emojis/Happy-5.png                                           \b\b\b\b 50%\b\b\b\b\b  OK \n",
            "Extracting  Emojis/Love-1.png                                            \b\b\b\b 53%\b\b\b\b\b  OK \n",
            "Extracting  Emojis/Love-2.png                                            \b\b\b\b 57%\b\b\b\b\b  OK \n",
            "Extracting  Emojis/Love-3.png                                            \b\b\b\b 59%\b\b\b\b\b  OK \n",
            "Extracting  Emojis/Love-4.png                                            \b\b\b\b 62%\b\b\b\b\b  OK \n",
            "Extracting  Emojis/Love-5.png                                            \b\b\b\b 65%\b\b\b\b\b  OK \n",
            "Extracting  Emojis/Sad-1.png                                             \b\b\b\b 68%\b\b\b\b\b  OK \n",
            "Extracting  Emojis/Sad-2.png                                             \b\b\b\b 71%\b\b\b\b\b  OK \n",
            "Extracting  Emojis/Sad-3.png                                             \b\b\b\b 74%\b\b\b\b\b  OK \n",
            "Extracting  Emojis/Sad-4.png                                             \b\b\b\b 78%\b\b\b\b\b  OK \n",
            "Extracting  Emojis/Sad-5.png                                             \b\b\b\b 82%\b\b\b\b\b  OK \n",
            "Extracting  Emojis/Surprise-1.png                                        \b\b\b\b 84%\b\b\b\b\b  OK \n",
            "Extracting  Emojis/Surprise-2.png                                        \b\b\b\b 87%\b\b\b\b\b  OK \n",
            "Extracting  Emojis/Surprise-3.png                                        \b\b\b\b 91%\b\b\b\b\b  OK \n",
            "Extracting  Emojis/Surprise-4.png                                        \b\b\b\b 95%\b\b\b\b\b  OK \n",
            "Extracting  Emojis/Surprise-5.png                                        \b\b\b\b 99%\b\b\b\b\b  OK \n",
            "All OK\n"
          ]
        }
      ]
    },
    {
      "cell_type": "code",
      "source": [
        "import os\n",
        "from PIL import Image\n",
        "from os import listdir\n",
        "\n",
        "i = random.randint(0, len(test_labels) - 1)\n",
        "print('Tweet:', test_tweets[i])\n",
        "print('Actual Emotion:', index_to_classes[test_labels[i]])\n",
        "p = np.argmax(model.predict(np.expand_dims(test_sequences[i], axis=0))[0],axis=-1)\n",
        "print('Predicted Emotion:', index_to_classes.get(p), '\\n')\n",
        "pred_emo=index_to_classes.get(p)\n",
        "dic={'anger': 'Angry', 'sadness': 'Sad', 'joy': 'Happy', 'surprise': 'Surprise', 'love': 'Love', 'fear': 'Fear'}\n",
        "find_img=dic[pred_emo]\n",
        "\n",
        "folder_dir = \"/content/Emojis\"\n",
        "for images in os.listdir(folder_dir):\n",
        "    if (images.startswith(find_img)):\n",
        "      path = folder_dir+'/'+images\n",
        "      img = Image.open(path)\n",
        "      img.show()"
      ],
      "metadata": {
        "colab": {
          "base_uri": "https://localhost:8080/",
          "height": 428
        },
        "id": "3AJrAdOgb908",
        "outputId": "bbbbf8b7-5ddb-4e18-8968-67ccfdc06405"
      },
      "execution_count": 87,
      "outputs": [
        {
          "output_type": "stream",
          "name": "stdout",
          "text": [
            "Tweet: i both feel that neither screeching nor throwing things is acceptable\n",
            "Actual Emotion: joy\n",
            "1/1 [==============================] - 0s 54ms/step\n",
            "Predicted Emotion: joy \n",
            "\n"
          ]
        },
        {
          "output_type": "display_data",
          "data": {
            "text/plain": [
              "<PIL.PngImagePlugin.PngImageFile image mode=RGBA size=64x64 at 0x7FD73631B220>"
            ],
            "image/png": "[encoded data removed]"
          },
          "metadata": {}
        },
        {
          "output_type": "display_data",
          "data": {
            "text/plain": [
              "<PIL.PngImagePlugin.PngImageFile image mode=P size=64x64 at 0x7FD739DF6FB0>"
            ],
            "image/png": "[encoded data removed]"
          },
          "metadata": {}
        },
        {
          "output_type": "display_data",
          "data": {
            "text/plain": [
              "<PIL.PngImagePlugin.PngImageFile image mode=P size=64x64 at 0x7FD7395589A0>"
            ],
            "image/png": "[encoded data removed]"
          },
          "metadata": {}
        },
        {
          "output_type": "display_data",
          "data": {
            "text/plain": [
              "<PIL.PngImagePlugin.PngImageFile image mode=P size=64x64 at 0x7FD739D30610>"
            ],
            "image/png": "[encoded data removed]"
          },
          "metadata": {}
        },
        {
          "output_type": "display_data",
          "data": {
            "text/plain": [
              "<PIL.PngImagePlugin.PngImageFile image mode=P size=64x64 at 0x7FD7395589A0>"
            ],
            "image/png": "[encoded data removed]"
          },
          "metadata": {}
        }
      ]
    },
    {
      "cell_type": "code",
      "source": [],
      "metadata": {
        "id": "vUMl1vD8kdtt"
      },
      "execution_count": 85,
      "outputs": []
    }
  ]
}